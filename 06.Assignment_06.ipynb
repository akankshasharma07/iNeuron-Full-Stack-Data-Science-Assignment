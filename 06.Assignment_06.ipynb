{
 "cells": [
  {
   "cell_type": "markdown",
   "id": "41e79392",
   "metadata": {},
   "source": [
    "# Assignment 6 Solutions"
   ]
  },
  {
   "cell_type": "markdown",
   "id": "b4b8894a",
   "metadata": {},
   "source": [
    "1.What are Escape characters ? and how do you use them ?"
   ]
  },
  {
   "cell_type": "raw",
   "id": "c1f0f45c",
   "metadata": {},
   "source": [
    "Ans: Escape characters represent characters in string values that would otherwise be difficult or impossible to type into code. we can use the backslash character to escape a single character or symbol\n",
    "example: \\t, \\n"
   ]
  },
  {
   "cell_type": "markdown",
   "id": "0df350d2",
   "metadata": {},
   "source": [
    "2.What do the escape characters n and t stand for ?"
   ]
  },
  {
   "cell_type": "markdown",
   "id": "94a03fae",
   "metadata": {},
   "source": [
    "Ans: \\n is a newline, \\t is a tab\n",
    "\n"
   ]
  },
  {
   "cell_type": "markdown",
   "id": "7a1edb54",
   "metadata": {},
   "source": [
    "3.What is the way to include backslash character in a string?"
   ]
  },
  {
   "cell_type": "markdown",
   "id": "cb23ae51",
   "metadata": {},
   "source": [
    "Ans: The \\\\ escape character will represent the backslash character in a string\n",
    "\n"
   ]
  },
  {
   "cell_type": "markdown",
   "id": "51d3944d",
   "metadata": {},
   "source": [
    "4.The string \"Howl's Moving Castle\" is a correct value. Why isn't the single quote character in the word Howl's not escaped a problem ?"
   ]
  },
  {
   "cell_type": "raw",
   "id": "61faa1d4",
   "metadata": {},
   "source": [
    "Ans: The string \"Howl's Moving Castle\" escaped the problem because it is wrapped inside double quotes. if its wrapped inside single quotes then we have to use escape character \\' to show single quote in the final output\n",
    "'Howl\\'s Moving Castle' -> 'Howl's Moving Castle'"
   ]
  },
  {
   "cell_type": "markdown",
   "id": "02b3d93d",
   "metadata": {},
   "source": [
    "5.How do you write a string of newlines if you don't want to use the n character?"
   ]
  },
  {
   "cell_type": "markdown",
   "id": "30188d25",
   "metadata": {},
   "source": [
    "Ans: Multiline string allow you to use newlines in string without the \\n escape character\n",
    "\n"
   ]
  },
  {
   "cell_type": "code",
   "execution_count": 1,
   "id": "01a36293",
   "metadata": {},
   "outputs": [
    {
     "name": "stdout",
     "output_type": "stream",
     "text": [
      "iNeuron full stack\n",
      "Data Science Course\n"
     ]
    }
   ],
   "source": [
    "# Example:\n",
    "a = '''iNeuron full stack\n",
    "Data Science Course'''\n",
    "print(a)"
   ]
  },
  {
   "cell_type": "markdown",
   "id": "65402e49",
   "metadata": {},
   "source": [
    "6.What are the values of the given expressions ?"
   ]
  },
  {
   "cell_type": "raw",
   "id": "f2c05581",
   "metadata": {},
   "source": [
    "'Hello, world!'[1]\n",
    "'Hello, world!'[0:5]\n",
    "'Hello, world!'[:5]\n",
    "'Hello, world!'[3:]\n",
    "\n"
   ]
  },
  {
   "cell_type": "raw",
   "id": "bb41e644",
   "metadata": {},
   "source": [
    "Ans: The values for the given expressions are:\n",
    "'Hello, world!'[1] -> 'e'\n",
    "'Hello, world!'[0:5] -> 'Hello'\n",
    "'Hello, world!'[:5] -> 'Hello'\n",
    "'Hello, world!'[3:] -> 'lo, world!'"
   ]
  },
  {
   "cell_type": "markdown",
   "id": "ac18d5df",
   "metadata": {},
   "source": [
    "7.What are the values of the following expressions ?"
   ]
  },
  {
   "cell_type": "raw",
   "id": "34386149",
   "metadata": {},
   "source": [
    "'Hello'.upper()\n",
    "'Hello'.upper().isupper()\n",
    "'Hello'.upper().lower()"
   ]
  },
  {
   "cell_type": "raw",
   "id": "2f9f1d92",
   "metadata": {},
   "source": [
    "Ans: The values for the given expressions are:\n",
    "'Hello'.upper() -> 'HELLO'\n",
    "'Hello'.upper().isupper() -> True\n",
    "'Hello'.upper().lower() -> 'hello'"
   ]
  },
  {
   "cell_type": "markdown",
   "id": "388e644c",
   "metadata": {},
   "source": [
    "8.What are the values of the following expressions ?\n"
   ]
  },
  {
   "cell_type": "raw",
   "id": "319572cd",
   "metadata": {},
   "source": [
    "'Remember, remember, the fifith of July.'.split()\n",
    "-'.join('There can only one'.split())"
   ]
  },
  {
   "cell_type": "raw",
   "id": "cee25658",
   "metadata": {},
   "source": [
    "Ans: The values for the given expressions are:\n",
    "'Remember, remember, the fifith of July.'.split() -> ['Remember,', 'remember,', 'the', 'fifith', 'of', 'July.']\n",
    "'-'.join('There can only one'.split()) -> 'There-can-only-one'"
   ]
  },
  {
   "cell_type": "markdown",
   "id": "32bebba4",
   "metadata": {},
   "source": [
    "9.What are the methods for right-justifying, left-justifying and centering a string ?"
   ]
  },
  {
   "cell_type": "markdown",
   "id": "1a248bf6",
   "metadata": {},
   "source": [
    "Ans: The rjust(),ljust(),center() string methods, respectively"
   ]
  },
  {
   "cell_type": "markdown",
   "id": "48c4e1cc",
   "metadata": {},
   "source": [
    "10.What is the best way to remove whitespace characters from the start or end ?"
   ]
  },
  {
   "cell_type": "markdown",
   "id": "ef33cd4a",
   "metadata": {},
   "source": [
    "Ans: The lstrip() and rstrip() methods remove whitesapce characters from the left and right ends of a string respectively"
   ]
  },
  {
   "cell_type": "code",
   "execution_count": null,
   "id": "3b865def",
   "metadata": {},
   "outputs": [],
   "source": []
  }
 ],
 "metadata": {
  "kernelspec": {
   "display_name": "Python 3 (ipykernel)",
   "language": "python",
   "name": "python3"
  },
  "language_info": {
   "codemirror_mode": {
    "name": "ipython",
    "version": 3
   },
   "file_extension": ".py",
   "mimetype": "text/x-python",
   "name": "python",
   "nbconvert_exporter": "python",
   "pygments_lexer": "ipython3",
   "version": "3.9.12"
  }
 },
 "nbformat": 4,
 "nbformat_minor": 5
}
