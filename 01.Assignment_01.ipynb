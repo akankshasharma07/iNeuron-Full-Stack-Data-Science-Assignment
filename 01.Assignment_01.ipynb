{
 "cells": [
  {
   "cell_type": "markdown",
   "id": "09e67580",
   "metadata": {},
   "source": [
    "# Assignment 1 Solutions"
   ]
  },
  {
   "cell_type": "raw",
   "id": "c75c8d40",
   "metadata": {},
   "source": [
    "1. In the below elements which of them are values or an expression? eg:- values can be\n",
    "integer or string and expressions will be mathematical operators.\n",
    "*\n",
    "&#39;hello&#39;\n",
    "-87.8\n",
    "-\n",
    "/\n",
    "+\n",
    "6"
   ]
  },
  {
   "cell_type": "raw",
   "id": "a50ea1c9",
   "metadata": {},
   "source": [
    "Ans: There are a total of 4 Operators and 3 Expressions, They are:\n",
    "Operators: *,-,/,+\n",
    "Expressions: 'hello', 87.8,6"
   ]
  },
  {
   "cell_type": "raw",
   "id": "15ee71a6",
   "metadata": {},
   "source": [
    "2. What is the difference between string and variable?"
   ]
  },
  {
   "cell_type": "raw",
   "id": "306fef13",
   "metadata": {},
   "source": [
    "Ans: A Variable is used to store of information,and a string is a type of information you would store in a Variable. A string is a group of characters or a single character usually enclosed in Double quotes \" \" or single quotes ' '"
   ]
  },
  {
   "cell_type": "raw",
   "id": "2ab711f9",
   "metadata": {},
   "source": [
    "3. Describe three different data types."
   ]
  },
  {
   "cell_type": "raw",
   "id": "834095da",
   "metadata": {},
   "source": [
    "Ans: Three fundamental Data types in python are int, float, complex.\n",
    "1. int data type: We can use int data type to represent whole numbers(integral values)\n",
    "2. float data type: We can use float data type to represent floating point values (decimal values)\n",
    "3. complex data type: Complex number is represented by complex class. It is specified as (real part)i + (imaginary part)j."
   ]
  },
  {
   "cell_type": "code",
   "execution_count": 5,
   "id": "1899a04f",
   "metadata": {},
   "outputs": [
    {
     "name": "stdout",
     "output_type": "stream",
     "text": [
      "4567 <class 'int'>\n",
      "1200.0 <class 'float'>\n",
      "(10+1.5j) <class 'complex'>\n"
     ]
    }
   ],
   "source": [
    "# Example for int data type\n",
    "int_num=4567\n",
    "print(int_num, type(int_num))\n",
    "#Example for float data type\n",
    "flo_num=1.2e3\n",
    "print(flo_num, type(flo_num))\n",
    "#Example for Complex data type\n",
    "com_num=10+1.5j\n",
    "print(com_num, type(com_num))"
   ]
  },
  {
   "cell_type": "raw",
   "id": "e654e853",
   "metadata": {},
   "source": [
    "4. What is an expression made up of? What do all expressions do?"
   ]
  },
  {
   "cell_type": "raw",
   "id": "2da463fb",
   "metadata": {},
   "source": [
    "Ans: An expression is a combination of values,variables,operators, and calls to functions. Expressions need to be evaluated. If we ask Python to print an expression, the interpreter evaluates the expression and displays the result."
   ]
  },
  {
   "cell_type": "code",
   "execution_count": 6,
   "id": "d95c6182",
   "metadata": {},
   "outputs": [
    {
     "data": {
      "text/plain": [
       "0"
      ]
     },
     "execution_count": 6,
     "metadata": {},
     "output_type": "execute_result"
    }
   ],
   "source": [
    "4*5+20-40 #Is an Expression, The python Interpreter Evaluates it to 0"
   ]
  },
  {
   "cell_type": "raw",
   "id": "727f1907",
   "metadata": {},
   "source": [
    "5. This assignment statements, like spam = 10. What is the difference between an\n",
    "expression and a statement?"
   ]
  },
  {
   "cell_type": "markdown",
   "id": "0aedeef1",
   "metadata": {},
   "source": [
    "Ans:An expression is a combination of values,variables,operators.When we type an expression at the prompt, the interpreter evaluates it, which means that it finds the values of the expression.\n",
    "eg:4*5+20-40 is an example of a statement\n",
    "\n",
    "A statement is a unit of code that has an effect, like creating a variable or displaying a value.When we type a statement,the interpreter executes it, which means that it does whatever the statement says. In general, statements don't have values.\n",
    "eg. variable declaration and assignment are statements because they do not return a value"
   ]
  },
  {
   "cell_type": "code",
   "execution_count": 1,
   "id": "e7bd744d",
   "metadata": {},
   "outputs": [
    {
     "name": "stdout",
     "output_type": "stream",
     "text": [
      "Hello World\n"
     ]
    }
   ],
   "source": [
    "#Example:\n",
    "4*5+20-40 #Is a Expression\n",
    "courseName = 'INeuron FullStack DataScience Bootcamp 2.0' #Is a Statement\n",
    "print(\"Hello World\") #Is a Expression Statement\n"
   ]
  },
  {
   "cell_type": "markdown",
   "id": "db81aa4f",
   "metadata": {},
   "source": [
    "6. After running the following code, what does the variable bacon contain?\n",
    "\n",
    "bacon = 22\n",
    "bacon + 1"
   ]
  },
  {
   "cell_type": "raw",
   "id": "37d2cc49",
   "metadata": {},
   "source": [
    "Ans: The variable bacon is set to 22. The expression bacon + 1 does not reaasign the value in bacon (that would the case if the expression is like bacon = bacon + 1 instead of bacon + 1)"
   ]
  },
  {
   "cell_type": "code",
   "execution_count": 3,
   "id": "face13b7",
   "metadata": {},
   "outputs": [
    {
     "name": "stdout",
     "output_type": "stream",
     "text": [
      "22\n"
     ]
    }
   ],
   "source": [
    "# Example Case#1\n",
    "bacon=22\n",
    "bacon+1\n",
    "print(bacon)"
   ]
  },
  {
   "cell_type": "code",
   "execution_count": 4,
   "id": "e5a3ad1b",
   "metadata": {},
   "outputs": [
    {
     "name": "stdout",
     "output_type": "stream",
     "text": [
      "23\n"
     ]
    }
   ],
   "source": [
    "#Example Case#2\n",
    "bacon=22\n",
    "bacon = bacon+1\n",
    "print(bacon)"
   ]
  },
  {
   "cell_type": "markdown",
   "id": "dc799fe8",
   "metadata": {},
   "source": [
    "7. What should the values of the following two terms be?\n",
    "\n",
    "'spam'+'spamspam'\n",
    "'spam'*3"
   ]
  },
  {
   "cell_type": "raw",
   "id": "9d0a5906",
   "metadata": {},
   "source": [
    "Ans: Both expressions evaluate to the string 'spamspamspam' Where as the first expression follows String Concatentation and the second expression follows String Multiplication"
   ]
  },
  {
   "cell_type": "raw",
   "id": "1978623b",
   "metadata": {},
   "source": [
    "8. Why is eggs a valid variable name while 100 is invalid?"
   ]
  },
  {
   "cell_type": "raw",
   "id": "e86bcf0e",
   "metadata": {},
   "source": [
    "Ans: As per python, Variable names cannot begin with a number. The python rules for naming a variable are:\n",
    "\n",
    "1. Variable name must start with a letter or the underscore character.\n",
    "2. Variable name cannot start with a number.\n",
    "3. Variable name can only contain alpha-numeric characters and underscores(A-z, 0-9, &_).\n",
    "4. Variable names are case-sensitive(name, INEURON and ineuron are three different variables).\n",
    "5. The reserved words(keywords) cannot be used naming the variable.\n"
   ]
  },
  {
   "cell_type": "code",
   "execution_count": 9,
   "id": "c51ddbb9",
   "metadata": {},
   "outputs": [
    {
     "ename": "SyntaxError",
     "evalue": "cannot assign to literal (3387198197.py, line 2)",
     "output_type": "error",
     "traceback": [
      "\u001b[1;36m  Input \u001b[1;32mIn [9]\u001b[1;36m\u001b[0m\n\u001b[1;33m    100='hello' #Invalid variable Initilization\u001b[0m\n\u001b[1;37m    ^\u001b[0m\n\u001b[1;31mSyntaxError\u001b[0m\u001b[1;31m:\u001b[0m cannot assign to literal\n"
     ]
    }
   ],
   "source": [
    "egg='Ineuron' #Valid variable Initilization\n",
    "100='hello' #Invalid variable Initilization\n",
    "print(egg) #prints the value of egg ie. Ineuron\n",
    "print(100) #Raises a Syntax Error as 100 is not a valid variable name"
   ]
  },
  {
   "cell_type": "raw",
   "id": "24a42c82",
   "metadata": {},
   "source": [
    "9. What three functions can be used to get the integer, floating-point number, or string version of a value?"
   ]
  },
  {
   "cell_type": "raw",
   "id": "133f56a3",
   "metadata": {},
   "source": [
    "# Ans. The int(), float(), str() functions will evaluate to the integer, floating-point number, string version of the value passed to them."
   ]
  },
  {
   "cell_type": "code",
   "execution_count": 10,
   "id": "2bfc412b",
   "metadata": {},
   "outputs": [
    {
     "name": "stdout",
     "output_type": "stream",
     "text": [
      "int(10.0) -> 10\n",
      "float(10) ->  10.0\n",
      "str(10) ->  10\n"
     ]
    }
   ],
   "source": [
    "#Examples:\n",
    "print('int(10.0) ->', int(10.0)) #int() function converts given input to int\n",
    "print('float(10) -> ',float(10)) # float() function converts given input to float\n",
    "print('str(10) -> ',str(10)) # str() function converts given input to string"
   ]
  },
  {
   "cell_type": "raw",
   "id": "a62101dc",
   "metadata": {},
   "source": [
    "10.Why does this expression cause an error? how can you fix it?\n",
    "\n",
    "'I have eaten ' + 99 + 'burritos.'"
   ]
  },
  {
   "cell_type": "raw",
   "id": "fd3448bf",
   "metadata": {},
   "source": [
    "Ans: This cause of error is 99.because 99 is not a string. 99 must be typecasted to a string to fix this error. the correct way is:\n",
    "\n",
    "Input: 'I have eaten ' + str(99) + 'burritos.'\n",
    "\n",
    "Output: 'I have eaten 99 burritos.'"
   ]
  },
  {
   "cell_type": "code",
   "execution_count": 8,
   "id": "fd5fc026",
   "metadata": {},
   "outputs": [
    {
     "name": "stdout",
     "output_type": "stream",
     "text": [
      "I have eaten 99 burritos\n"
     ]
    }
   ],
   "source": [
    "print('I have eaten '+str(99)+' burritos')"
   ]
  },
  {
   "cell_type": "code",
   "execution_count": null,
   "id": "b34d322c",
   "metadata": {},
   "outputs": [],
   "source": []
  }
 ],
 "metadata": {
  "kernelspec": {
   "display_name": "Python 3 (ipykernel)",
   "language": "python",
   "name": "python3"
  },
  "language_info": {
   "codemirror_mode": {
    "name": "ipython",
    "version": 3
   },
   "file_extension": ".py",
   "mimetype": "text/x-python",
   "name": "python",
   "nbconvert_exporter": "python",
   "pygments_lexer": "ipython3",
   "version": "3.9.12"
  }
 },
 "nbformat": 4,
 "nbformat_minor": 5
}
