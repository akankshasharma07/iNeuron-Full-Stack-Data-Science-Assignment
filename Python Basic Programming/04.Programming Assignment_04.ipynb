{
 "cells": [
  {
   "cell_type": "markdown",
   "id": "211549ba",
   "metadata": {},
   "source": [
    "# Assignment 4 Solutions"
   ]
  },
  {
   "cell_type": "markdown",
   "id": "5f6e13c2",
   "metadata": {},
   "source": [
    "1.Write a Python Program to find the factorial of a number ?\n"
   ]
  },
  {
   "cell_type": "code",
   "execution_count": 4,
   "id": "1c8d16e7",
   "metadata": {},
   "outputs": [
    {
     "name": "stdout",
     "output_type": "stream",
     "text": [
      "enter a number: 4\n",
      "the factorial of 4 is 24\n"
     ]
    }
   ],
   "source": [
    "def factorial(num):\n",
    "    if(num<1):\n",
    "        return 1\n",
    "    else:\n",
    "        return num*factorial(num-1)\n",
    "num=int(input(\"enter a number: \"))\n",
    "value=factorial(num)\n",
    "print(f'the factorial of {num} is {value}')"
   ]
  },
  {
   "cell_type": "markdown",
   "id": "b0d34a1a",
   "metadata": {},
   "source": [
    "2.Write a Python Program to display the multiplication table ?\n"
   ]
  },
  {
   "cell_type": "code",
   "execution_count": 6,
   "id": "e43a2dce",
   "metadata": {},
   "outputs": [
    {
     "name": "stdout",
     "output_type": "stream",
     "text": [
      "Display multiplication table of ? 2\n",
      "2 x 1 = 2\n",
      "2 x 2 = 4\n",
      "2 x 3 = 6\n",
      "2 x 4 = 8\n",
      "2 x 5 = 10\n",
      "2 x 6 = 12\n",
      "2 x 7 = 14\n",
      "2 x 8 = 16\n",
      "2 x 9 = 18\n",
      "2 x 10 = 20\n"
     ]
    }
   ],
   "source": [
    "num = int(input(\"Display multiplication table of ? \"))\n",
    "for i in range(1,11):\n",
    "    print(num, 'x', i ,'=', num*i)"
   ]
  },
  {
   "cell_type": "markdown",
   "id": "808b473e",
   "metadata": {},
   "source": [
    "3.Write a Python Program to print the fibonacci sequence ?\n"
   ]
  },
  {
   "cell_type": "code",
   "execution_count": 8,
   "id": "a302bf37",
   "metadata": {},
   "outputs": [
    {
     "name": "stdout",
     "output_type": "stream",
     "text": [
      "20\n",
      "Fibonacci series: 0 1 1 2 3 5 8 13 21 34 55 89 144 233 377 610 987 1597 2584 4181 "
     ]
    }
   ],
   "source": [
    "def fibonacciSeries(Number):\n",
    "    if Number == 0:\n",
    "        return 0\n",
    "    elif Number == 1:\n",
    "        return 1\n",
    "    else:\n",
    "        return fibonacciSeries(Number - 1) + fibonacciSeries(Number - 2)\n",
    "\n",
    "\n",
    "n = int(input())\n",
    "print(\"Fibonacci series:\", end=' ')\n",
    "for n in range(0, n):\n",
    "    print(fibonacciSeries(n), end=' ')"
   ]
  },
  {
   "cell_type": "markdown",
   "id": "b45ce294",
   "metadata": {},
   "source": [
    "4.Write a Python Program to check Armstrong number ?\n"
   ]
  },
  {
   "cell_type": "code",
   "execution_count": null,
   "id": "c9209597",
   "metadata": {},
   "outputs": [
    {
     "name": "stdout",
     "output_type": "stream",
     "text": [
      "Enter a number: 30\n",
      "30 is a Not Armstrong Number\n"
     ]
    }
   ],
   "source": [
    "def checkArmstrongNumber():\n",
    "    in_num = input('Enter a number: ')\n",
    "    sum = 0\n",
    "    for char in range(len(in_num)):\n",
    "        sum = sum + pow(int(in_num[char]),3)\n",
    "    if sum == int(in_num):\n",
    "        print(f'{in_num} is a Armstrong Number')\n",
    "    else:\n",
    "        print(f'{in_num} is a Not Armstrong Number')\n",
    "\n",
    "for x in range(2):\n",
    "    checkArmstrongNumber()"
   ]
  },
  {
   "cell_type": "markdown",
   "id": "719e0e00",
   "metadata": {},
   "source": [
    "5.Write a Python Program to Find Armstrong number in an interval ?\n"
   ]
  },
  {
   "cell_type": "code",
   "execution_count": null,
   "id": "47d63097",
   "metadata": {},
   "outputs": [],
   "source": [
    "def checkArmstrongNumber(in_num, storage):\n",
    "    sum = 0\n",
    "    for char in range(len(in_num)):\n",
    "        sum = sum + pow(int(in_num[char]),3)\n",
    "    if sum == int(in_num):\n",
    "        storage.append(int(in_num))\n",
    "\n",
    "start_interval = int(input('Enter the Start of the Interval: '))\n",
    "end_interval = int(input('Enter the End of the Interval: '))\n",
    "list_of_armstrong = []\n",
    "\n",
    "if start_interval > end_interval:\n",
    "    print(\"Start Interval Cannot be Greater than End Interval\")\n",
    "else:\n",
    "    for number in range(start_interval,end_interval+1):\n",
    "        checkArmstrongNumber(str(number),list_of_armstrong)\n",
    "    print(f'The Armstrong numbers between {start_interval} and {end_interval} are {list_of_armstrong}')"
   ]
  },
  {
   "cell_type": "markdown",
   "id": "d16ca034",
   "metadata": {},
   "source": [
    "6.Write a Python Program to sum of natural numbers ?\n"
   ]
  },
  {
   "cell_type": "code",
   "execution_count": 1,
   "id": "16e30866",
   "metadata": {},
   "outputs": [
    {
     "name": "stdout",
     "output_type": "stream",
     "text": [
      "Enter a number: 20\n",
      "Sum of 20 natural numbers is 210.0\n"
     ]
    }
   ],
   "source": [
    "def sumOfNaturalNumbers(num):\n",
    "    sum = num*((num+1)/2)\n",
    "    print(f'Sum of {num} natural numbers is {sum}')\n",
    "    \n",
    "num = int(input('Enter a number: '))\n",
    "sumOfNaturalNumbers(num)"
   ]
  },
  {
   "cell_type": "code",
   "execution_count": null,
   "id": "9fca17db",
   "metadata": {},
   "outputs": [],
   "source": []
  }
 ],
 "metadata": {
  "kernelspec": {
   "display_name": "Python 3 (ipykernel)",
   "language": "python",
   "name": "python3"
  },
  "language_info": {
   "codemirror_mode": {
    "name": "ipython",
    "version": 3
   },
   "file_extension": ".py",
   "mimetype": "text/x-python",
   "name": "python",
   "nbconvert_exporter": "python",
   "pygments_lexer": "ipython3",
   "version": "3.9.12"
  }
 },
 "nbformat": 4,
 "nbformat_minor": 5
}
