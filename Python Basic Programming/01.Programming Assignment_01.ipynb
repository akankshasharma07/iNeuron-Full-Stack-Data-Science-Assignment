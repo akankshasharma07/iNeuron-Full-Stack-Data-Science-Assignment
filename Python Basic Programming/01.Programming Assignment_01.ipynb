{
 "cells": [
  {
   "cell_type": "markdown",
   "id": "0f84c0c8",
   "metadata": {},
   "source": [
    "# Assignment 1 Solutions"
   ]
  },
  {
   "cell_type": "markdown",
   "id": "d1416cf4",
   "metadata": {},
   "source": [
    "1.Write a Python program to print 'Hello Python' ?"
   ]
  },
  {
   "cell_type": "code",
   "execution_count": 1,
   "id": "ccde3216",
   "metadata": {},
   "outputs": [
    {
     "name": "stdout",
     "output_type": "stream",
     "text": [
      "Hello Python\n"
     ]
    }
   ],
   "source": [
    "print(\"Hello Python\")"
   ]
  },
  {
   "cell_type": "markdown",
   "id": "40c04a9e",
   "metadata": {},
   "source": [
    "2.Write a Python program to do arithmetic operations addition and division ?\n"
   ]
  },
  {
   "cell_type": "code",
   "execution_count": null,
   "id": "31c8cf77",
   "metadata": {},
   "outputs": [
    {
     "name": "stdout",
     "output_type": "stream",
     "text": [
      "Select a Arithmetic Operation:         \n",
      "1.Addition(+)        \n",
      "2.Division(-)        \n",
      "2.Multiplication(*)        \n",
      "4.Division(/)        \n",
      "3.Stop(0)\n",
      "\n"
     ]
    }
   ],
   "source": [
    "import operator\n",
    "\n",
    "ops = {\"+\": operator.add, \"-\":operator.sub, \"*\":operator.mul, \"/\":operator.truediv}\n",
    "\n",
    "print('Select a Arithmetic Operation: \\\n",
    "        \\n1.Addition(+)\\\n",
    "        \\n2.Division(-)\\\n",
    "        \\n2.Multiplication(*)\\\n",
    "        \\n4.Division(/)\\\n",
    "        \\n3.Stop(0)\\n')\n",
    "\n",
    "while True:\n",
    "    operator = input('Enter a arithmetic operation -> ')\n",
    "    if operator == '0':\n",
    "        print(\"Program Stopped successfully\")\n",
    "        break\n",
    "    elif operator not in ['+','-','*','/']:\n",
    "        print(\"Please enter a valid operator\")\n",
    "    else:\n",
    "        num_1 = int(input('\\nEnter 1st Number: '))\n",
    "        num_2 = int(input('Enter 2nd Number: '))\n",
    "        print('{}{}{}={}\\n'.format(num_1, operator, num_2, ops[operator](num_1,num_2)))"
   ]
  },
  {
   "cell_type": "markdown",
   "id": "ac5d7634",
   "metadata": {},
   "source": [
    "3.Write a Python program to find the area of a triangle ?"
   ]
  },
  {
   "cell_type": "code",
   "execution_count": 3,
   "id": "698ae6e8",
   "metadata": {},
   "outputs": [
    {
     "name": "stdout",
     "output_type": "stream",
     "text": [
      "height of the area of triangle100\n",
      "base of the area of triangle50\n",
      "area of trianlge 2500.0\n"
     ]
    }
   ],
   "source": [
    "h=int(input(\"height of the area of triangle\"))\n",
    "b= int(input(\"base of the area of triangle\"))\n",
    "a= (h*b)/2\n",
    "print(\"area of trianlge\",a)"
   ]
  },
  {
   "cell_type": "markdown",
   "id": "496e2a1e",
   "metadata": {},
   "source": [
    "4.Write a Python program to swap two variables ?\n"
   ]
  },
  {
   "cell_type": "code",
   "execution_count": 6,
   "id": "30493e59",
   "metadata": {},
   "outputs": [
    {
     "name": "stdout",
     "output_type": "stream",
     "text": [
      "enter the 1st variable :100\n",
      "enter the 2nd variable : 200\n",
      "before swapping -> 100 200\n",
      "after swapping -> 200 100\n"
     ]
    }
   ],
   "source": [
    "num_1= int(input(\"enter the 1st variable :\"))\n",
    "num_2=int(input(\"enter the 2nd variable : \"))\n",
    "def swapNumbers(a,b):\n",
    "    temp=a\n",
    "    a=b\n",
    "    b=temp\n",
    "    return a,b\n",
    "print(\"before swapping ->\", num_1,num_2)\n",
    "num_1,num_2 = swapNumbers(num_1,num_2)\n",
    "print(\"after swapping ->\", num_1,num_2)\n"
   ]
  },
  {
   "cell_type": "markdown",
   "id": "0727c60c",
   "metadata": {},
   "source": [
    "5.Write a Python program to generate a random number ?\n"
   ]
  },
  {
   "cell_type": "code",
   "execution_count": 8,
   "id": "b8f25645",
   "metadata": {},
   "outputs": [
    {
     "name": "stdout",
     "output_type": "stream",
     "text": [
      "Random number ->  763\n",
      "Random number ->  20\n"
     ]
    }
   ],
   "source": [
    "from random import randint\n",
    "def generateRandomNumber(start=0, end=1000):\n",
    "    print('Random number -> ',randint(start,end))\n",
    "\n",
    "# Generating random numbers without arguments    \n",
    "generateRandomNumber()\n",
    "\n",
    "# Generating random numbers with arguments    \n",
    "generateRandomNumber(0,100)"
   ]
  },
  {
   "cell_type": "code",
   "execution_count": null,
   "id": "7fa616c9",
   "metadata": {},
   "outputs": [],
   "source": []
  }
 ],
 "metadata": {
  "kernelspec": {
   "display_name": "Python 3 (ipykernel)",
   "language": "python",
   "name": "python3"
  },
  "language_info": {
   "codemirror_mode": {
    "name": "ipython",
    "version": 3
   },
   "file_extension": ".py",
   "mimetype": "text/x-python",
   "name": "python",
   "nbconvert_exporter": "python",
   "pygments_lexer": "ipython3",
   "version": "3.9.12"
  }
 },
 "nbformat": 4,
 "nbformat_minor": 5
}
